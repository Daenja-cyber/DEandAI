{
 "cells": [
  {
   "cell_type": "markdown",
   "id": "cf6f94e0",
   "metadata": {},
   "source": [
    "# Assignment 1 - Data Preprocessing and Visualization for the Bank Marketing Classification Project "
   ]
  },
  {
   "cell_type": "code",
   "execution_count": 10,
   "id": "bca878af",
   "metadata": {},
   "outputs": [],
   "source": [
    "# Python ≥3.5 is required\n",
    "import sys\n",
    "assert sys.version_info >= (3, 5)\n",
    "\n",
    "# Scikit-Learn ≥0.20 \n",
    "import sklearn\n",
    "assert sklearn.__version__ >= \"0.20\"\n",
    "\n",
    "#common imports\n",
    "import numpy as np\n",
    "\n",
    "# the path of where our data will be stored\n",
    "import os\n",
    "datapath = os.path.join(\"datasets\", \"lifesat\", \"\")\n",
    "\n",
    "# matplotlib , figures\n",
    "%matplotlib inline\n",
    "import matplotlib as mpl\n",
    "mpl.rc('axes', labelsize=14)\n",
    "mpl.rc('xtick', labelsize=12)\n",
    "mpl.rc('ytick', labelsize=12)"
   ]
  },
  {
   "cell_type": "code",
   "execution_count": 14,
   "id": "ddcc34b6",
   "metadata": {},
   "outputs": [
    {
     "ename": "NameError",
     "evalue": "name 'datapath' is not defined",
     "output_type": "error",
     "traceback": [
      "\u001b[1;31m---------------------------------------------------------------------------\u001b[0m",
      "\u001b[1;31mNameError\u001b[0m                                 Traceback (most recent call last)",
      "Cell \u001b[1;32mIn[14], line 4\u001b[0m\n\u001b[0;32m      2\u001b[0m \u001b[38;5;28;01mimport\u001b[39;00m \u001b[38;5;21;01murllib\u001b[39;00m\u001b[38;5;21;01m.\u001b[39;00m\u001b[38;5;21;01mrequest\u001b[39;00m\n\u001b[0;32m      3\u001b[0m DOWNLOAD_ROOT \u001b[38;5;241m=\u001b[39m \u001b[38;5;124m\"\u001b[39m\u001b[38;5;124mhttp://localhost:8890/tree/OneDrive\u001b[39m\u001b[38;5;124m%\u001b[39m\u001b[38;5;124m20-\u001b[39m\u001b[38;5;124m%\u001b[39m\u001b[38;5;124m20Turun\u001b[39m\u001b[38;5;132;01m%20a\u001b[39;00m\u001b[38;5;124mmmattikorkeakoulu/Data\u001b[39m\u001b[38;5;132;01m%20e\u001b[39;00m\u001b[38;5;124mngineering\u001b[39m\u001b[38;5;132;01m%20a\u001b[39;00m\u001b[38;5;124mnd\u001b[39m\u001b[38;5;124m%\u001b[39m\u001b[38;5;124m20AI/Assigment\u001b[39m\u001b[38;5;124m%\u001b[39m\u001b[38;5;124m201/dataset\u001b[39m\u001b[38;5;124m\"\u001b[39m\n\u001b[1;32m----> 4\u001b[0m os\u001b[38;5;241m.\u001b[39mmakedirs(datapath, exist_ok\u001b[38;5;241m=\u001b[39m\u001b[38;5;28;01mTrue\u001b[39;00m)\n\u001b[0;32m      5\u001b[0m \u001b[38;5;28;01mfor\u001b[39;00m filename \u001b[38;5;129;01min\u001b[39;00m (\u001b[38;5;124m\"\u001b[39m\u001b[38;5;124mbank.csv\u001b[39m\u001b[38;5;124m\"\u001b[39m):\n\u001b[0;32m      6\u001b[0m     \u001b[38;5;28mprint\u001b[39m(\u001b[38;5;124m\"\u001b[39m\u001b[38;5;124mDownloading\u001b[39m\u001b[38;5;124m\"\u001b[39m, filename)\n",
      "\u001b[1;31mNameError\u001b[0m: name 'datapath' is not defined"
     ]
    }
   ],
   "source": [
    "# Download the data\n",
    "import urllib.request\n",
    "DOWNLOAD_ROOT = \"https://archive.ics.uci.edu/dataset/222/bank+marketing\"\n",
    "os.makedirs(datapath, exist_ok=True)\n",
    "for filename in (\"bank.csv\"):\n",
    "    print(\"Downloading\", filename)\n",
    "    url = DOWNLOAD_ROOT + \"dataset/bank+marketing/\" + filename\n",
    "    urllib.request.urlretrieve(url, datapath + filename)"
   ]
  },
  {
   "cell_type": "code",
   "execution_count": null,
   "id": "8c86956d",
   "metadata": {},
   "outputs": [],
   "source": []
  }
 ],
 "metadata": {
  "kernelspec": {
   "display_name": "Python 3 (ipykernel)",
   "language": "python",
   "name": "python3"
  },
  "language_info": {
   "codemirror_mode": {
    "name": "ipython",
    "version": 3
   },
   "file_extension": ".py",
   "mimetype": "text/x-python",
   "name": "python",
   "nbconvert_exporter": "python",
   "pygments_lexer": "ipython3",
   "version": "3.11.4"
  }
 },
 "nbformat": 4,
 "nbformat_minor": 5
}
